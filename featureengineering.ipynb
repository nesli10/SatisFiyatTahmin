{
 "cells": [
  {
   "cell_type": "code",
   "execution_count": 1,
   "id": "61e9d246",
   "metadata": {
    "_cell_guid": "b1076dfc-b9ad-4769-8c92-a6c4dae69d19",
    "_uuid": "8f2839f25d086af736a60e9eeb907d3b93b6e0e5",
    "execution": {
     "iopub.execute_input": "2025-05-07T18:44:22.418234Z",
     "iopub.status.busy": "2025-05-07T18:44:22.418020Z",
     "iopub.status.idle": "2025-05-07T18:44:25.355186Z",
     "shell.execute_reply": "2025-05-07T18:44:25.354418Z"
    },
    "papermill": {
     "duration": 2.942528,
     "end_time": "2025-05-07T18:44:25.356402",
     "exception": false,
     "start_time": "2025-05-07T18:44:22.413874",
     "status": "completed"
    },
    "tags": []
   },
   "outputs": [
    {
     "name": "stdout",
     "output_type": "stream",
     "text": [
      "/kaggle/input/academy2025/sample_submission.csv\n",
      "/kaggle/input/academy2025/train.csv\n",
      "/kaggle/input/academy2025/testFeatures.csv\n"
     ]
    }
   ],
   "source": [
    "# This Python 3 environment comes with many helpful analytics libraries installed\n",
    "# It is defined by the kaggle/python Docker image: https://github.com/kaggle/docker-python\n",
    "# For example, here's several helpful packages to load\n",
    "\n",
    "import numpy as np # linear algebra\n",
    "import pandas as pd # data processing, CSV file I/O (e.g. pd.read_csv)\n",
    "from sklearn.ensemble import RandomForestRegressor\n",
    "from sklearn.metrics import mean_squared_error\n",
    "from sklearn.model_selection import train_test_split\n",
    "\n",
    "# Input data files are available in the read-only \"../input/\" directory\n",
    "# For example, running this (by clicking run or pressing Shift+Enter) will list all files under the input directory\n",
    "\n",
    "import os\n",
    "for dirname, _, filenames in os.walk('/kaggle/input'):\n",
    "    for filename in filenames:\n",
    "        print(os.path.join(dirname, filename)) \n",
    "\n",
    "# You can write up to 20GB to the current directory (/kaggle/working/) that gets preserved as output when you create a version using \"Save & Run All\" \n",
    "# You can also write temporary files to /kaggle/temp/, but they won't be saved outside of the current session"
   ]
  },
  {
   "cell_type": "code",
   "execution_count": 2,
   "id": "d84f2ee4",
   "metadata": {
    "execution": {
     "iopub.execute_input": "2025-05-07T18:44:25.363298Z",
     "iopub.status.busy": "2025-05-07T18:44:25.362986Z",
     "iopub.status.idle": "2025-05-07T18:44:26.679970Z",
     "shell.execute_reply": "2025-05-07T18:44:26.679175Z"
    },
    "papermill": {
     "duration": 1.321752,
     "end_time": "2025-05-07T18:44:26.681312",
     "exception": false,
     "start_time": "2025-05-07T18:44:25.359560",
     "status": "completed"
    },
    "tags": []
   },
   "outputs": [],
   "source": [
    "df_train = pd.read_csv(\"/kaggle/input/academy2025/train.csv\")\n",
    "df_test = pd.read_csv(\"/kaggle/input/academy2025/testFeatures.csv\")\n",
    "df_submission = pd.read_csv(\"/kaggle/input/academy2025/sample_submission.csv\")"
   ]
  },
  {
   "cell_type": "markdown",
   "id": "9ba7cb6b",
   "metadata": {
    "papermill": {
     "duration": 0.002501,
     "end_time": "2025-05-07T18:44:26.686908",
     "exception": false,
     "start_time": "2025-05-07T18:44:26.684407",
     "status": "completed"
    },
    "tags": []
   },
   "source": [
    "## tarih sütununu modelin anlayacağı şekilde parçalama"
   ]
  },
  {
   "cell_type": "code",
   "execution_count": 3,
   "id": "e752497a",
   "metadata": {
    "execution": {
     "iopub.execute_input": "2025-05-07T18:44:26.692857Z",
     "iopub.status.busy": "2025-05-07T18:44:26.692599Z",
     "iopub.status.idle": "2025-05-07T18:44:26.751469Z",
     "shell.execute_reply": "2025-05-07T18:44:26.750966Z"
    },
    "papermill": {
     "duration": 0.063085,
     "end_time": "2025-05-07T18:44:26.752526",
     "exception": false,
     "start_time": "2025-05-07T18:44:26.689441",
     "status": "completed"
    },
    "tags": []
   },
   "outputs": [],
   "source": [
    "df_train['tarih'] = pd.to_datetime(df_train['tarih'])\n",
    "df_test['tarih'] = pd.to_datetime(df_test['tarih'])\n",
    "\n",
    "for df in [df_train, df_test]:\n",
    "    df['tarih_yıl'] = df['tarih'].dt.year\n",
    "    df['tarih_ay'] = df['tarih'].dt.month\n",
    "    df['tarih_gün'] = df['tarih'].dt.day\n",
    "\n"
   ]
  },
  {
   "cell_type": "markdown",
   "id": "db23f7bb",
   "metadata": {
    "papermill": {
     "duration": 0.002378,
     "end_time": "2025-05-07T18:44:26.757555",
     "exception": false,
     "start_time": "2025-05-07T18:44:26.755177",
     "status": "completed"
    },
    "tags": []
   },
   "source": [
    "## label encoding"
   ]
  },
  {
   "cell_type": "code",
   "execution_count": 4,
   "id": "aa892f77",
   "metadata": {
    "execution": {
     "iopub.execute_input": "2025-05-07T18:44:26.763405Z",
     "iopub.status.busy": "2025-05-07T18:44:26.763191Z",
     "iopub.status.idle": "2025-05-07T18:44:26.966825Z",
     "shell.execute_reply": "2025-05-07T18:44:26.966249Z"
    },
    "papermill": {
     "duration": 0.208061,
     "end_time": "2025-05-07T18:44:26.968150",
     "exception": false,
     "start_time": "2025-05-07T18:44:26.760089",
     "status": "completed"
    },
    "tags": []
   },
   "outputs": [],
   "source": [
    "from sklearn.preprocessing import LabelEncoder\n",
    "\n",
    "def encode_categories(train_df, test_df, columns):\n",
    "    encoder = LabelEncoder()\n",
    "    for col in columns:\n",
    "        combined = pd.concat([train_df[col], test_df[col]], axis=0)\n",
    "        encoder.fit(combined)\n",
    "        train_df[col] = encoder.transform(train_df[col])\n",
    "        test_df[col] = encoder.transform(test_df[col])\n",
    "    return train_df, test_df\n",
    "\n",
    "categorical_cols = ['ürün', 'ürün kategorisi', 'ürün üretim yeri', 'market', 'şehir']\n",
    "\n",
    "df_train, df_test = encode_categories(df_train, df_test, categorical_cols)\n"
   ]
  },
  {
   "cell_type": "markdown",
   "id": "20c04c87",
   "metadata": {
    "papermill": {
     "duration": 0.002491,
     "end_time": "2025-05-07T18:44:26.973591",
     "exception": false,
     "start_time": "2025-05-07T18:44:26.971100",
     "status": "completed"
    },
    "tags": []
   },
   "source": [
    "## girdi ve hedef tanımlama"
   ]
  },
  {
   "cell_type": "code",
   "execution_count": 5,
   "id": "a9e1f86a",
   "metadata": {
    "execution": {
     "iopub.execute_input": "2025-05-07T18:44:26.979571Z",
     "iopub.status.busy": "2025-05-07T18:44:26.979357Z",
     "iopub.status.idle": "2025-05-07T18:44:26.996722Z",
     "shell.execute_reply": "2025-05-07T18:44:26.996240Z"
    },
    "papermill": {
     "duration": 0.021606,
     "end_time": "2025-05-07T18:44:26.997770",
     "exception": false,
     "start_time": "2025-05-07T18:44:26.976164",
     "status": "completed"
    },
    "tags": []
   },
   "outputs": [],
   "source": [
    "X = df_train.drop(['ürün fiyatı', 'tarih'], axis=1)\n",
    "y = df_train['ürün fiyatı']\n",
    "\n",
    "X_test = df_test.drop(['tarih'], axis=1)\n",
    "\n"
   ]
  },
  {
   "cell_type": "code",
   "execution_count": 6,
   "id": "76607f4f",
   "metadata": {
    "execution": {
     "iopub.execute_input": "2025-05-07T18:44:27.003677Z",
     "iopub.status.busy": "2025-05-07T18:44:27.003482Z",
     "iopub.status.idle": "2025-05-07T18:44:27.014550Z",
     "shell.execute_reply": "2025-05-07T18:44:27.013620Z"
    },
    "papermill": {
     "duration": 0.015058,
     "end_time": "2025-05-07T18:44:27.015535",
     "exception": false,
     "start_time": "2025-05-07T18:44:27.000477",
     "status": "completed"
    },
    "tags": []
   },
   "outputs": [
    {
     "name": "stdout",
     "output_type": "stream",
     "text": [
      "       tarih  ürün  ürün besin değeri  ürün kategorisi  ürün fiyatı  \\\n",
      "0 2019-01-01    65                120                0        32.70   \n",
      "1 2019-01-01    70                103                0        11.04   \n",
      "2 2019-01-01    61                160                0        11.20   \n",
      "3 2019-01-01     1                354                3         7.04   \n",
      "4 2019-01-01     2                 72                3        13.28   \n",
      "\n",
      "   ürün üretim yeri  market  şehir  tarih_yıl  tarih_ay  tarih_gün  \n",
      "0                 1       1      6       2019         1          1  \n",
      "1                 1       1      6       2019         1          1  \n",
      "2                 1       1      6       2019         1          1  \n",
      "3                 1       1      6       2019         1          1  \n",
      "4                 1       1      6       2019         1          1  \n",
      "   id      tarih  ürün  ürün besin değeri  ürün kategorisi  ürün üretim yeri  \\\n",
      "0   0 2024-01-01    65                120                0                 1   \n",
      "1   1 2024-01-01    70                103                0                 1   \n",
      "2   2 2024-01-01    61                160                0                 1   \n",
      "3   3 2024-01-01     1                354                3                 1   \n",
      "4   4 2024-01-01     2                 72                3                 1   \n",
      "\n",
      "   market  şehir  tarih_yıl  tarih_ay  tarih_gün  \n",
      "0       1      6       2024         1          1  \n",
      "1       1      6       2024         1          1  \n",
      "2       1      6       2024         1          1  \n",
      "3       1      6       2024         1          1  \n",
      "4       1      6       2024         1          1  \n"
     ]
    }
   ],
   "source": [
    "print(df_train.head())\n",
    "print(df_test.head())\n"
   ]
  },
  {
   "cell_type": "markdown",
   "id": "7e6f07b3",
   "metadata": {
    "papermill": {
     "duration": 0.002477,
     "end_time": "2025-05-07T18:44:27.020686",
     "exception": false,
     "start_time": "2025-05-07T18:44:27.018209",
     "status": "completed"
    },
    "tags": []
   },
   "source": [
    "## eğitim doğrulama ayrımı"
   ]
  },
  {
   "cell_type": "code",
   "execution_count": 7,
   "id": "f5b6397c",
   "metadata": {
    "execution": {
     "iopub.execute_input": "2025-05-07T18:44:27.026699Z",
     "iopub.status.busy": "2025-05-07T18:44:27.026511Z",
     "iopub.status.idle": "2025-05-07T18:44:27.069266Z",
     "shell.execute_reply": "2025-05-07T18:44:27.068724Z"
    },
    "papermill": {
     "duration": 0.047052,
     "end_time": "2025-05-07T18:44:27.070445",
     "exception": false,
     "start_time": "2025-05-07T18:44:27.023393",
     "status": "completed"
    },
    "tags": []
   },
   "outputs": [],
   "source": [
    "from sklearn.model_selection import train_test_split\n",
    "\n",
    "X_train, X_val, y_train, y_val = train_test_split(\n",
    "    X, y, test_size=0.2, random_state=42\n",
    ")\n",
    "\n",
    "\n",
    "\n",
    "\n"
   ]
  },
  {
   "cell_type": "markdown",
   "id": "f5478b77",
   "metadata": {
    "papermill": {
     "duration": 0.002679,
     "end_time": "2025-05-07T18:44:27.076008",
     "exception": false,
     "start_time": "2025-05-07T18:44:27.073329",
     "status": "completed"
    },
    "tags": []
   },
   "source": [
    "## model oluşturma ve eğitme"
   ]
  },
  {
   "cell_type": "code",
   "execution_count": 8,
   "id": "6b50845e",
   "metadata": {
    "execution": {
     "iopub.execute_input": "2025-05-07T18:44:27.082030Z",
     "iopub.status.busy": "2025-05-07T18:44:27.081818Z",
     "iopub.status.idle": "2025-05-07T18:44:41.562468Z",
     "shell.execute_reply": "2025-05-07T18:44:41.561670Z"
    },
    "papermill": {
     "duration": 14.485025,
     "end_time": "2025-05-07T18:44:41.563685",
     "exception": false,
     "start_time": "2025-05-07T18:44:27.078660",
     "status": "completed"
    },
    "tags": []
   },
   "outputs": [
    {
     "data": {
      "text/html": [
       "<style>#sk-container-id-1 {color: black;background-color: white;}#sk-container-id-1 pre{padding: 0;}#sk-container-id-1 div.sk-toggleable {background-color: white;}#sk-container-id-1 label.sk-toggleable__label {cursor: pointer;display: block;width: 100%;margin-bottom: 0;padding: 0.3em;box-sizing: border-box;text-align: center;}#sk-container-id-1 label.sk-toggleable__label-arrow:before {content: \"▸\";float: left;margin-right: 0.25em;color: #696969;}#sk-container-id-1 label.sk-toggleable__label-arrow:hover:before {color: black;}#sk-container-id-1 div.sk-estimator:hover label.sk-toggleable__label-arrow:before {color: black;}#sk-container-id-1 div.sk-toggleable__content {max-height: 0;max-width: 0;overflow: hidden;text-align: left;background-color: #f0f8ff;}#sk-container-id-1 div.sk-toggleable__content pre {margin: 0.2em;color: black;border-radius: 0.25em;background-color: #f0f8ff;}#sk-container-id-1 input.sk-toggleable__control:checked~div.sk-toggleable__content {max-height: 200px;max-width: 100%;overflow: auto;}#sk-container-id-1 input.sk-toggleable__control:checked~label.sk-toggleable__label-arrow:before {content: \"▾\";}#sk-container-id-1 div.sk-estimator input.sk-toggleable__control:checked~label.sk-toggleable__label {background-color: #d4ebff;}#sk-container-id-1 div.sk-label input.sk-toggleable__control:checked~label.sk-toggleable__label {background-color: #d4ebff;}#sk-container-id-1 input.sk-hidden--visually {border: 0;clip: rect(1px 1px 1px 1px);clip: rect(1px, 1px, 1px, 1px);height: 1px;margin: -1px;overflow: hidden;padding: 0;position: absolute;width: 1px;}#sk-container-id-1 div.sk-estimator {font-family: monospace;background-color: #f0f8ff;border: 1px dotted black;border-radius: 0.25em;box-sizing: border-box;margin-bottom: 0.5em;}#sk-container-id-1 div.sk-estimator:hover {background-color: #d4ebff;}#sk-container-id-1 div.sk-parallel-item::after {content: \"\";width: 100%;border-bottom: 1px solid gray;flex-grow: 1;}#sk-container-id-1 div.sk-label:hover label.sk-toggleable__label {background-color: #d4ebff;}#sk-container-id-1 div.sk-serial::before {content: \"\";position: absolute;border-left: 1px solid gray;box-sizing: border-box;top: 0;bottom: 0;left: 50%;z-index: 0;}#sk-container-id-1 div.sk-serial {display: flex;flex-direction: column;align-items: center;background-color: white;padding-right: 0.2em;padding-left: 0.2em;position: relative;}#sk-container-id-1 div.sk-item {position: relative;z-index: 1;}#sk-container-id-1 div.sk-parallel {display: flex;align-items: stretch;justify-content: center;background-color: white;position: relative;}#sk-container-id-1 div.sk-item::before, #sk-container-id-1 div.sk-parallel-item::before {content: \"\";position: absolute;border-left: 1px solid gray;box-sizing: border-box;top: 0;bottom: 0;left: 50%;z-index: -1;}#sk-container-id-1 div.sk-parallel-item {display: flex;flex-direction: column;z-index: 1;position: relative;background-color: white;}#sk-container-id-1 div.sk-parallel-item:first-child::after {align-self: flex-end;width: 50%;}#sk-container-id-1 div.sk-parallel-item:last-child::after {align-self: flex-start;width: 50%;}#sk-container-id-1 div.sk-parallel-item:only-child::after {width: 0;}#sk-container-id-1 div.sk-dashed-wrapped {border: 1px dashed gray;margin: 0 0.4em 0.5em 0.4em;box-sizing: border-box;padding-bottom: 0.4em;background-color: white;}#sk-container-id-1 div.sk-label label {font-family: monospace;font-weight: bold;display: inline-block;line-height: 1.2em;}#sk-container-id-1 div.sk-label-container {text-align: center;}#sk-container-id-1 div.sk-container {/* jupyter's `normalize.less` sets `[hidden] { display: none; }` but bootstrap.min.css set `[hidden] { display: none !important; }` so we also need the `!important` here to be able to override the default hidden behavior on the sphinx rendered scikit-learn.org. See: https://github.com/scikit-learn/scikit-learn/issues/21755 */display: inline-block !important;position: relative;}#sk-container-id-1 div.sk-text-repr-fallback {display: none;}</style><div id=\"sk-container-id-1\" class=\"sk-top-container\"><div class=\"sk-text-repr-fallback\"><pre>RandomForestRegressor(n_jobs=-1, random_state=42)</pre><b>In a Jupyter environment, please rerun this cell to show the HTML representation or trust the notebook. <br />On GitHub, the HTML representation is unable to render, please try loading this page with nbviewer.org.</b></div><div class=\"sk-container\" hidden><div class=\"sk-item\"><div class=\"sk-estimator sk-toggleable\"><input class=\"sk-toggleable__control sk-hidden--visually\" id=\"sk-estimator-id-1\" type=\"checkbox\" checked><label for=\"sk-estimator-id-1\" class=\"sk-toggleable__label sk-toggleable__label-arrow\">RandomForestRegressor</label><div class=\"sk-toggleable__content\"><pre>RandomForestRegressor(n_jobs=-1, random_state=42)</pre></div></div></div></div></div>"
      ],
      "text/plain": [
       "RandomForestRegressor(n_jobs=-1, random_state=42)"
      ]
     },
     "execution_count": 8,
     "metadata": {},
     "output_type": "execute_result"
    }
   ],
   "source": [
    "from sklearn.ensemble import RandomForestRegressor\n",
    "\n",
    "model = RandomForestRegressor(random_state=42, n_jobs=-1)\n",
    "model.fit(X_train, y_train)\n",
    "\n"
   ]
  },
  {
   "cell_type": "markdown",
   "id": "0968c50d",
   "metadata": {
    "papermill": {
     "duration": 0.002694,
     "end_time": "2025-05-07T18:44:41.569593",
     "exception": false,
     "start_time": "2025-05-07T18:44:41.566899",
     "status": "completed"
    },
    "tags": []
   },
   "source": [
    "## tahmin ve başarı metriği"
   ]
  },
  {
   "cell_type": "code",
   "execution_count": 9,
   "id": "524902a9",
   "metadata": {
    "execution": {
     "iopub.execute_input": "2025-05-07T18:44:41.576169Z",
     "iopub.status.busy": "2025-05-07T18:44:41.575928Z",
     "iopub.status.idle": "2025-05-07T18:44:42.134263Z",
     "shell.execute_reply": "2025-05-07T18:44:42.133522Z"
    },
    "papermill": {
     "duration": 0.562925,
     "end_time": "2025-05-07T18:44:42.135439",
     "exception": false,
     "start_time": "2025-05-07T18:44:41.572514",
     "status": "completed"
    },
    "tags": []
   },
   "outputs": [
    {
     "name": "stdout",
     "output_type": "stream",
     "text": [
      "Doğrulama RMSE: 1.32\n"
     ]
    }
   ],
   "source": [
    "from sklearn.metrics import mean_squared_error\n",
    "\n",
    "y_pred = model.predict(X_val)\n",
    "mse = mean_squared_error(y_val, y_pred)\n",
    "rmse = mse ** 0.5\n",
    "\n",
    "print(f\"Doğrulama RMSE: {rmse:.2f}\")\n"
   ]
  },
  {
   "cell_type": "markdown",
   "id": "dd25fd42",
   "metadata": {
    "papermill": {
     "duration": 0.002783,
     "end_time": "2025-05-07T18:44:42.141330",
     "exception": false,
     "start_time": "2025-05-07T18:44:42.138547",
     "status": "completed"
    },
    "tags": []
   },
   "source": [
    "## tahmin yapma"
   ]
  },
  {
   "cell_type": "code",
   "execution_count": 10,
   "id": "054b00e6",
   "metadata": {
    "execution": {
     "iopub.execute_input": "2025-05-07T18:44:42.147697Z",
     "iopub.status.busy": "2025-05-07T18:44:42.147479Z",
     "iopub.status.idle": "2025-05-07T18:44:42.414937Z",
     "shell.execute_reply": "2025-05-07T18:44:42.414333Z"
    },
    "papermill": {
     "duration": 0.272273,
     "end_time": "2025-05-07T18:44:42.416402",
     "exception": false,
     "start_time": "2025-05-07T18:44:42.144129",
     "status": "completed"
    },
    "tags": []
   },
   "outputs": [],
   "source": [
    "test_preds = model.predict(df_test.drop(columns=['id', 'tarih']))\n"
   ]
  },
  {
   "cell_type": "markdown",
   "id": "81fb0277",
   "metadata": {
    "papermill": {
     "duration": 0.002907,
     "end_time": "2025-05-07T18:44:42.422738",
     "exception": false,
     "start_time": "2025-05-07T18:44:42.419831",
     "status": "completed"
    },
    "tags": []
   },
   "source": [
    "## submission"
   ]
  },
  {
   "cell_type": "code",
   "execution_count": 11,
   "id": "c138a569",
   "metadata": {
    "execution": {
     "iopub.execute_input": "2025-05-07T18:44:42.429177Z",
     "iopub.status.busy": "2025-05-07T18:44:42.428974Z",
     "iopub.status.idle": "2025-05-07T18:44:42.519060Z",
     "shell.execute_reply": "2025-05-07T18:44:42.518335Z"
    },
    "papermill": {
     "duration": 0.094653,
     "end_time": "2025-05-07T18:44:42.520255",
     "exception": false,
     "start_time": "2025-05-07T18:44:42.425602",
     "status": "completed"
    },
    "tags": []
   },
   "outputs": [],
   "source": [
    "submission = pd.DataFrame({\n",
    "    'id': df_test['id'],\n",
    "    'ürün fiyatı': test_preds\n",
    "})\n",
    "submission.to_csv('submission.csv', index=False)"
   ]
  }
 ],
 "metadata": {
  "kaggle": {
   "accelerator": "none",
   "dataSources": [
    {
     "databundleVersionId": 11820474,
     "sourceId": 99039,
     "sourceType": "competition"
    }
   ],
   "dockerImageVersionId": 31012,
   "isGpuEnabled": false,
   "isInternetEnabled": true,
   "language": "python",
   "sourceType": "notebook"
  },
  "kernelspec": {
   "display_name": "Python 3",
   "language": "python",
   "name": "python3"
  },
  "language_info": {
   "codemirror_mode": {
    "name": "ipython",
    "version": 3
   },
   "file_extension": ".py",
   "mimetype": "text/x-python",
   "name": "python",
   "nbconvert_exporter": "python",
   "pygments_lexer": "ipython3",
   "version": "3.11.11"
  },
  "papermill": {
   "default_parameters": {},
   "duration": 24.732225,
   "end_time": "2025-05-07T18:44:43.140002",
   "environment_variables": {},
   "exception": null,
   "input_path": "__notebook__.ipynb",
   "output_path": "__notebook__.ipynb",
   "parameters": {},
   "start_time": "2025-05-07T18:44:18.407777",
   "version": "2.6.0"
  }
 },
 "nbformat": 4,
 "nbformat_minor": 5
}
